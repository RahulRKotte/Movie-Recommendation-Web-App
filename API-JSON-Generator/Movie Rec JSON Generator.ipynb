{
 "cells": [
  {
   "cell_type": "code",
   "execution_count": 1,
   "id": "94e0bbf9",
   "metadata": {},
   "outputs": [
    {
     "name": "stdout",
     "output_type": "stream",
     "text": [
      "JSON file created successfully!\n"
     ]
    }
   ],
   "source": [
    "import numpy as np\n",
    "import pandas as pd\n",
    "import difflib\n",
    "from sklearn.feature_extraction.text import TfidfVectorizer\n",
    "from sklearn.metrics.pairwise import cosine_similarity\n",
    "import json\n",
    "\n",
    "movies_data = pd.read_csv('movies_final.csv')\n",
    "combined_features = movies_data['Details']\n",
    "vectorizer = TfidfVectorizer()\n",
    "feature_vectors = vectorizer.fit_transform(combined_features)\n",
    "similarity = cosine_similarity(feature_vectors)\n",
    "\n",
    "all_movies_json = []\n",
    "\n",
    "for index_of_the_movie in range(len(movies_data)):\n",
    "    movie_title = movies_data.iloc[index_of_the_movie]['Title']\n",
    "    similarity_score = list(enumerate(similarity[index_of_the_movie]))\n",
    "    sorted_similar_movies = sorted(similarity_score, key=lambda x: x[1], reverse=True)[:21]\n",
    "\n",
    "    suggested_movies = []\n",
    "    for movie in sorted_similar_movies:\n",
    "        index = movie[0]\n",
    "        title_from_index = movies_data.iloc[index]['Title']\n",
    "        if title_from_index != movie_title and title_from_index not in suggested_movies:\n",
    "            suggested_movies.append(title_from_index)\n",
    "\n",
    "    movie_json = {\n",
    "        'Title': movie_title,\n",
    "        'SuggestedMovies': suggested_movies\n",
    "    }\n",
    "    \n",
    "    all_movies_json.append(movie_json)\n",
    "\n",
    "with open('suggested_movies.json', 'w') as json_file:\n",
    "    json.dump(all_movies_json, json_file, indent=2)\n",
    "\n",
    "print(\"JSON file created successfully!\")\n"
   ]
  },
  {
   "cell_type": "code",
   "execution_count": null,
   "id": "84b2a709",
   "metadata": {},
   "outputs": [],
   "source": []
  }
 ],
 "metadata": {
  "kernelspec": {
   "display_name": "Python 3 (ipykernel)",
   "language": "python",
   "name": "python3"
  },
  "language_info": {
   "codemirror_mode": {
    "name": "ipython",
    "version": 3
   },
   "file_extension": ".py",
   "mimetype": "text/x-python",
   "name": "python",
   "nbconvert_exporter": "python",
   "pygments_lexer": "ipython3",
   "version": "3.11.5"
  }
 },
 "nbformat": 4,
 "nbformat_minor": 5
}
